{
 "cells": [
  {
   "cell_type": "raw",
   "id": "7507d3c0",
   "metadata": {},
   "source": [
    "# 1. Given an array of elements, replace every element with nearest greater element on the\n",
    "#right of that element."
   ]
  },
  {
   "cell_type": "code",
   "execution_count": 5,
   "id": "209de160",
   "metadata": {},
   "outputs": [
    {
     "name": "stdout",
     "output_type": "stream",
     "text": [
      "Modified Array is\n",
      "25 5 5 3 -1 "
     ]
    }
   ],
   "source": [
    "def nextGreatest(arr):\n",
    "    size = len(arr)\n",
    "    max_from_right = arr[size - 1]\n",
    "    arr[size - 1] = -1\n",
    "    for i in range (size -2,-1,-1):\n",
    "        temp = arr[i]\n",
    "        arr[i]=max_from_right\n",
    "        if max_from_right<temp:\n",
    "            max_from_right=temp\n",
    "def printArray(arr):\n",
    "    for i in range(0,len(arr)):\n",
    "        print(arr[i],end=' ')\n",
    "arr = [20, 25, 4, 5, 3]\n",
    "nextGreatest(arr)\n",
    "print(\"Modified Array is\")\n",
    "printArray(arr)"
   ]
  },
  {
   "cell_type": "raw",
   "id": "edd4c6d0",
   "metadata": {},
   "source": [
    "# Recursively remove all adjacent duplicates: Given a string of characters, recursively\n",
    "remove adjacent duplicate characters from the string. The output string should not\n",
    "have any adjacent duplicates.\n",
    "\n",
    "Input: careermonk Input: Mississippi\n",
    "Output: camonk M"
   ]
  },
  {
   "cell_type": "code",
   "execution_count": null,
   "id": "8f643f47",
   "metadata": {},
   "outputs": [],
   "source": [
    "def remove_d(s):\n",
    "    stack=[]\n",
    "    for i in s:\n",
    "        if stack and stack[-1]==i:\n",
    "            stack.pop()\n",
    "        else:\n",
    "            stack.append(i)\n",
    "    return \"\".join(stack)\n",
    "s = \"careermonk\"\n",
    "remove_d(s)"
   ]
  },
  {
   "cell_type": "markdown",
   "id": "0c4ff152",
   "metadata": {},
   "source": [
    "Given a list, List1={A1,A2,A3,........An-1, An} with data, reorder it to {A1, An, A2, An-\n",
    "1, .....} without using any extra space."
   ]
  },
  {
   "cell_type": "code",
   "execution_count": 13,
   "id": "3996b1b0",
   "metadata": {},
   "outputs": [
    {
     "name": "stdout",
     "output_type": "stream",
     "text": [
      "1  -> 2  -> 3  -> 4  -> 5  -> \n",
      "1  -> 5  -> 2  -> 4  -> 3  -> "
     ]
    }
   ],
   "source": [
    "class Node:\n",
    "    \n",
    "    \n",
    "    def __init__(self, d):\n",
    "        self.data = d\n",
    "        self.next = None\n",
    "          \n",
    "def printlist(node):\n",
    "    if(node == None):\n",
    "        return\n",
    "    while(node != None):\n",
    "        print(node.data,\" -> \", end = \"\")\n",
    "        node = node.next\n",
    "  \n",
    "def reverselist(node):\n",
    "    prev = None\n",
    "    curr = node\n",
    "    next=None\n",
    "    while (curr != None):\n",
    "        next = curr.next\n",
    "        curr.next = prev\n",
    "        prev = curr\n",
    "        curr = next\n",
    "    node = prev\n",
    "    return node\n",
    "  \n",
    "def rearrange(node):\n",
    "    \n",
    "   \n",
    "    \n",
    "    slow = node\n",
    "    fast = slow.next\n",
    "    while (fast != None and fast.next != None):\n",
    "        slow = slow.next\n",
    "        fast = fast.next.next\n",
    "      \n",
    "   \n",
    "   \n",
    "    \n",
    "    node1 = node\n",
    "    node2 = slow.next\n",
    "    slow.next = None\n",
    "      \n",
    "   \n",
    "    node2 = reverselist(node2)\n",
    "      \n",
    "   \n",
    "    node = Node(0)  \n",
    "      \n",
    "   \n",
    "   \n",
    "    curr = node\n",
    "      \n",
    "    while (node1 != None or node2 != None):\n",
    "          \n",
    "        \n",
    "        if (node1 != None):\n",
    "            curr.next = node1\n",
    "            curr = curr.next\n",
    "            node1 = node1.next\n",
    "          \n",
    "       \n",
    "        if(node2 != None):\n",
    "            curr.next = node2\n",
    "            curr = curr.next\n",
    "            node2 = node2.next\n",
    "      \n",
    "   \n",
    "    node = node.next\n",
    "  \n",
    "head = None\n",
    "head = Node(1)\n",
    "head.next = Node(2)\n",
    "head.next.next = Node(3)\n",
    "head.next.next.next = Node(4)\n",
    "head.next.next.next.next = Node(5)\n",
    "  \n",
    "printlist(head) rearrange(head) \n",
    "print(\n",
    "printlist(head) "
   ]
  },
  {
   "cell_type": "markdown",
   "id": "9a86b78c",
   "metadata": {},
   "source": [
    "4. Given a singly linked list, write a function to find root(n)th element, where n is the\n",
    "number of elements in the list. Assume value of n is not known in advance."
   ]
  },
  {
   "cell_type": "code",
   "execution_count": 12,
   "id": "41ee7910",
   "metadata": {},
   "outputs": [
    {
     "name": "stdout",
     "output_type": "stream",
     "text": [
      "Element at index 3 is : 4\n"
     ]
    }
   ],
   "source": [
    "class Node:\n",
    "   \n",
    "    def __init__(self, data):\n",
    "        self.data = data \n",
    "        self.next = None \n",
    "  \n",
    "  \n",
    "\n",
    "class LinkedList:\n",
    "  \n",
    "   \n",
    "    def __init__(self):\n",
    "        self.head = None\n",
    "  \n",
    "    \n",
    "  \n",
    "    def push(self, new_data):\n",
    "  \n",
    "      \n",
    "        new_node = Node(new_data)\n",
    "  \n",
    "        \n",
    "        new_node.next = self.head\n",
    "  \n",
    "        \n",
    "        self.head = new_node\n",
    "  \n",
    "   \n",
    "    def getNth(self, index):\n",
    "        current = self.head  \n",
    "        count = 0  \n",
    "  \n",
    "    \n",
    "        while (current):\n",
    "            if (count == index):\n",
    "                return current.data\n",
    "            count += 1\n",
    "            current = current.next\n",
    "  \n",
    "        assert(false)\n",
    "        return 0\n",
    "  \n",
    "  \n",
    "\n",
    "if __name__ == '__main__':\n",
    "  \n",
    "    llist = LinkedList()\n",
    "  \n",
    "    llist.push(1)\n",
    "    llist.push(4)\n",
    "    llist.push(1)\n",
    "    llist.push(12\n",
    "    llist.push(1)\n",
    "  \n",
    "    n = 3\n",
    "    print(\"Element at index 3 is :\", llist.getNth(n))"
   ]
  },
  {
   "cell_type": "markdown",
   "id": "68802f52",
   "metadata": {},
   "source": [
    "5. [Find the modular node from the end:] Given a singly linked list, write a function\n",
    "to find the first from the end whose n%k==0, where n is the number of elements in the\n",
    "list and k is an integer constant. If n=19 and k=3 then we should return 16th node."
   ]
  },
  {
   "cell_type": "code",
   "execution_count": 14,
   "id": "1165fdf3",
   "metadata": {},
   "outputs": [
    {
     "name": "stdout",
     "output_type": "stream",
     "text": [
      "Modular node is 7 "
     ]
    }
   ],
   "source": [
    "class Node:\n",
    "    def __init__(self, data):\n",
    "        self.data = data\n",
    "        self.next = None\n",
    "\n",
    "def newNode(data):\n",
    "    new_node = Node(data)\n",
    "    new_node.data = data\n",
    "    new_node.next = None\n",
    "    return new_node\n",
    "\n",
    "def modularNode(head, k):\n",
    "    \n",
    "    if (k <= 0 or head == None):\n",
    "        return None\n",
    "\n",
    "    i = 1\n",
    "    modularNode = None\n",
    "    temp = head\n",
    "    while (temp != None):\n",
    "        if (i % k == 0):\n",
    "            modularNode = temp\n",
    "\n",
    "        i = i + 1\n",
    "        temp = temp.next\n",
    "    return modularNode\n",
    "\n",
    "if __name__ == '__main__':\n",
    "    head = newNode(1)\n",
    "    head.next = newNode(3)\n",
    "    head.next.next = newNode(5)\n",
    "    head.next.next.next = newNode(7)\n",
    "    head.next.next.next.next = newNode(9)\n",
    "    k = 2\n",
    "    answer = modularNode(head, k)\n",
    "    print(\"Modular node is\", end = ' ')\n",
    "    if (answer != None):\n",
    "        print(answer.data, end = ' ')\n",
    "    else:\n",
    "        print(\"None\")"
   ]
  },
  {
   "cell_type": "markdown",
   "id": "74c3df60",
   "metadata": {},
   "source": [
    "6. Given an array of n numbers, create an algorithm which displays all pairs whose sum\n",
    "is S."
   ]
  },
  {
   "cell_type": "code",
   "execution_count": 17,
   "id": "e470e2b2",
   "metadata": {},
   "outputs": [
    {
     "name": "stdout",
     "output_type": "stream",
     "text": [
      "4,2\n",
      "5,1\n"
     ]
    }
   ],
   "source": [
    "arr= [4,5,1,2,3,7]\n",
    "n = len(arr)\n",
    "sum = 6\n",
    "for i in range(0,n):\n",
    "    for j in range(i+1,n):\n",
    "        if (arr[i] + arr[j] == sum):\n",
    "            print(f\"{arr[i]},{arr[j]}\")\n",
    "        \n",
    "            "
   ]
  },
  {
   "cell_type": "markdown",
   "id": "4c66f9a3",
   "metadata": {},
   "source": [
    "Q8. [Josephus circle:] N people decided to elect a leader by arranging themselves in a\n",
    "circle and eliminating every mth person around the circle, closing ranks as each drops\n",
    "out. Find which person will be the last one remaining (with rank 1)."
   ]
  },
  {
   "cell_type": "code",
   "execution_count": 44,
   "id": "f57372bd",
   "metadata": {},
   "outputs": [
    {
     "name": "stdout",
     "output_type": "stream",
     "text": [
      "13\n"
     ]
    }
   ],
   "source": [
    "def Josh(person, k, index):\n",
    "   \n",
    "\n",
    "  if len(person) == 1:\n",
    "    print(person[0])\n",
    "    return\n",
    "   \n",
    "\n",
    "  index = ((index+k)%len(person))\n",
    "   \n",
    "\n",
    "  person.pop(index)\n",
    "   \n",
    "\n",
    "  Josh(person,k,index)\n",
    " \n",
    "n = 14\n",
    "k = 2\n",
    "k-=1  \n",
    " \n",
    "index = 0\n",
    " \n",
    "person=[]\n",
    "for i in range(1,n+1):\n",
    "  person.append(i)\n",
    " \n",
    "Josh(person,k,index)"
   ]
  },
  {
   "cell_type": "markdown",
   "id": "c5495267",
   "metadata": {},
   "source": [
    "Q9.For a given k value (k>0) reverse blocks of nodes in the list.\n",
    "Example: Input: 1,2,3,4,5,6,7,8,9,10\n",
    "Output for different k values: For k=2: 2,1,4,3,6,5,8,7,10,9\n",
    "For k=3: 3,2,1,6,5,4,9,8,7,10 For k=4: 4,3,2,1,8,7,6,5,9,10."
   ]
  },
  {
   "cell_type": "code",
   "execution_count": 27,
   "id": "dc05f857",
   "metadata": {},
   "outputs": [
    {
     "name": "stdout",
     "output_type": "stream",
     "text": [
      "Given linked list\n",
      "1 2 3 4 5 6 7 8 9 \n",
      "Reversed Linked list\n",
      "3 2 1 6 5 4 9 8 7 "
     ]
    }
   ],
   "source": [
    "class Node:\n",
    "  \n",
    "  \n",
    "    def __init__(self, data):\n",
    "        self.data = data\n",
    "        self.next = None\n",
    "  \n",
    "  \n",
    "class LinkedList:\n",
    "  \n",
    "  \n",
    "    def __init__(self):\n",
    "        self.head = None\n",
    "  \n",
    "    def reverse(self, head, k):\n",
    "        \n",
    "        if head == None:\n",
    "          return None\n",
    "        current = head\n",
    "        next = None\n",
    "        prev = None\n",
    "        count = 0\n",
    "  \n",
    "       \n",
    "        while(current is not None and count < k):\n",
    "            next = current.next\n",
    "            current.next = prev\n",
    "            prev = current\n",
    "            current = next\n",
    "            count += 1\n",
    "  \n",
    "      \n",
    "        if next is not None:\n",
    "            head.next = self.reverse(next, k)\n",
    "  \n",
    "        \n",
    "        return prev\n",
    "  \n",
    "   \n",
    "    def push(self, new_data):\n",
    "        new_node = Node(new_data)\n",
    "        new_node.next = self.head\n",
    "        self.head = new_node\n",
    "  \n",
    "    \n",
    "    def printList(self):\n",
    "        temp = self.head\n",
    "        while(temp):\n",
    "            print(temp.data,end=' ')\n",
    "            temp = temp.next\n",
    "  \n",
    "  \n",
    "\n",
    "llist = LinkedList()\n",
    "llist.push(9)\n",
    "llist.push(8)\n",
    "llist.push(7)\n",
    "llist.push(6)\n",
    "llist.push(5)\n",
    "llist.push(4)\n",
    "llist.push(3)\n",
    "llist.push(2)\n",
    "llist.push(1)\n",
    "  \n",
    "print(\"Given linked list\")\n",
    "llist.printList()\n",
    "llist.head = llist.reverse(llist.head, 3)\n",
    "print (\"\\nReversed Linked list\"\n",
    "llist.printList()"
   ]
  },
  {
   "cell_type": "markdown",
   "id": "a5d0e9fc",
   "metadata": {},
   "source": [
    "10. Suppose there are two singly linked lists both of which intersect at some point and\n",
    "become a singly list. The head or starting pointers for the both lists are known, but the\n",
    "intersecting node is not known. Also the number of nodes in each of the lists before\n",
    "they intersect is unknown and may be different in each list. List1 may have n nodes\n",
    "before it reaches the intersection point, and list2 might have m nodes before it reaches\n",
    "the intersection point where m and n may be m=n, m<n or m>n. write a program for\n",
    "find a merging node."
   ]
  },
  {
   "cell_type": "code",
   "execution_count": 28,
   "id": "bc910210",
   "metadata": {},
   "outputs": [
    {
     "name": "stdout",
     "output_type": "stream",
     "text": [
      "Intersection Point: 15\n"
     ]
    }
   ],
   "source": [
    "class Node:\n",
    "    def __init__(self, data):\n",
    "        self.data = data\n",
    "        self.next = None\n",
    "\n",
    "def getIntersectionNode(head1, head2):\n",
    "    while head2:\n",
    "        temp = head1\n",
    "        while temp:\n",
    "        \n",
    "            if temp == head2:\n",
    "                return head2\n",
    "            temp = temp.next\n",
    "        head2 = head2.next\n",
    "\n",
    "    return None\n",
    " \n",
    " \n",
    "if __name__ == '__main__':\n",
    "\n",
    "    newNode = Node(10)\n",
    "    head1 = newNode\n",
    "    newNode = Node(3)\n",
    "    head2 = newNode\n",
    "    newNode = Node(6)\n",
    "    head2.next = newNode\n",
    "    newNode = Node(9)\n",
    "    head2.next.next = newNode\n",
    "    newNode = Node(15)\n",
    "    head1.next = newNode\n",
    "    head2.next.next.next = newNode\n",
    "    newNode = Node(30)\n",
    "    head1.next.next = newNode\n",
    " \n",
    "    intersectionPoint = getIntersectionNode(head1, head2)\n",
    " \n",
    "    if not intersectionPoint:\n",
    "        print(\" No Intersection Point \")\n",
    "    else:\n",
    "        print(\"Intersection Point:\", intersectionPoint.data)"
   ]
  },
  {
   "cell_type": "markdown",
   "id": "fada3202",
   "metadata": {},
   "source": [
    "11. Check whether the given linked list is either NULL-terminated or ends in cycle\n",
    "(cyclic)."
   ]
  },
  {
   "cell_type": "code",
   "execution_count": 29,
   "id": "36ce7beb",
   "metadata": {},
   "outputs": [
    {
     "name": "stdout",
     "output_type": "stream",
     "text": [
      "No\n",
      "Yes\n"
     ]
    }
   ],
   "source": [
    "class Node:\n",
    " \n",
    "   \n",
    "    def __init__(self, data):\n",
    "        self.data = data  \n",
    "        self.next = None\n",
    " \n",
    " \n",
    "# Linked List class contains a Node object\n",
    "class LinkedList:\n",
    " \n",
    "    \n",
    "    def __init__(self):\n",
    "        self.head = None\n",
    " \n",
    " \n",
    "def Circular(head):\n",
    "    if head == None:\n",
    "        return True\n",
    " \n",
    "    \n",
    "    node = head.next\n",
    "    i = 0\n",
    " \n",
    "    \n",
    "    while((node is not None) and (node is not head)):\n",
    "        i = i + 1\n",
    "        node = node.next\n",
    " \n",
    "    return(node == head)\n",
    " \n",
    " \n",
    "\n",
    "if __name__ == '__main__':\n",
    "    llist = LinkedList()\n",
    "    llist.head = Node(1)\n",
    "    second = Node(2)\n",
    "    third = Node(3)\n",
    "    fourth = Node(4)\n",
    " \n",
    "    llist.head.next = second\n",
    "    second.next = third\n",
    "    third.next = fourth\n",
    " \n",
    "    if (Circular(llist.head)):\n",
    "        print('Yes')\n",
    "    else:\n",
    "        print('No')\n",
    " \n",
    "    fourth.next = llist.head\n",
    " \n",
    "    if (Circular(llist.head)):\n",
    "        print('Yes')\n",
    "    else:\n",
    "        print('No')"
   ]
  },
  {
   "cell_type": "markdown",
   "id": "08e2a05b",
   "metadata": {},
   "source": [
    "12. Given an array of characters formed with a’s and b’s. The string is marked with\n",
    "special character X which represents the middle of the list (for example:\n",
    "ababa...ababXbabab....baaaa). Check whether the string is palindrome."
   ]
  },
  {
   "cell_type": "code",
   "execution_count": 34,
   "id": "ca8ca54d",
   "metadata": {},
   "outputs": [
    {
     "name": "stdout",
     "output_type": "stream",
     "text": [
      "Not a Palindrome\n"
     ]
    }
   ],
   "source": [
    "s = \"ababaXbabab\"\n",
    "r = s[::-1]\n",
    "if r==s:\n",
    "    print(\"String is palindrome\")\n",
    "else:\n",
    "    print(\"Not a Palindrome\")\n",
    "    "
   ]
  },
  {
   "cell_type": "code",
   "execution_count": 33,
   "id": "4838f92b",
   "metadata": {},
   "outputs": [
    {
     "data": {
      "text/plain": [
       "False"
      ]
     },
     "execution_count": 33,
     "metadata": {},
     "output_type": "execute_result"
    }
   ],
   "source": [
    "# Approach 2\n",
    "def is_palindrome(s: str) -> bool:  \n",
    "    i, j = 0, len(s)-1\n",
    "    while i < j:\n",
    "        if s[i] != s[j]:\n",
    "            return False\n",
    "        i += 1\n",
    "        j -= 1\n",
    "        if s[i-1] == 'X' or s[j+1] == 'X':\n",
    "            return i == j\n",
    "    return True\n",
    "is_palindrome(\"ababaXbabab\")"
   ]
  },
  {
   "cell_type": "code",
   "execution_count": null,
   "id": "eb39dd13",
   "metadata": {},
   "outputs": [],
   "source": [
    "14. Show how to implement one queue efficiently using two stacks. Analyse the running\n",
    "time of queue operations."
   ]
  },
  {
   "cell_type": "code",
   "execution_count": 43,
   "id": "7f8162bd",
   "metadata": {},
   "outputs": [],
   "source": [
    "class Queue:\n",
    "    def __init__(self):\n",
    "        self.stack1 = []\n",
    "        self.stack2 = []\n",
    "\n",
    "    def enqueue(self, val):\n",
    "        self.stack1.append(val)\n",
    "\n",
    "    def dequeue(self):\n",
    "        if not self.stack1 and not self.stack2:\n",
    "            return None\n",
    "        if not self.stack2:\n",
    "            while self.stack1:\n",
    "                self.stack2.append(self.stack1.pop())\n",
    "        return self.stack2.pop()\n"
   ]
  },
  {
   "cell_type": "code",
   "execution_count": null,
   "id": "dd60cbaa",
   "metadata": {},
   "outputs": [],
   "source": [
    "15. Show how to implement one stack efficiently using two queues. Analyse the running\n",
    "time of stack operations."
   ]
  },
  {
   "cell_type": "markdown",
   "id": "8a171c22",
   "metadata": {},
   "source": [
    "16. Given a stack of integers, how do you check whether each successive pair of members\n",
    "in the stack is consecutive or not. The pairs can be increasing or decreasing, and if the\n",
    "stack has an odd number of elements, the element at the top is left out of pair. For\n",
    "example, if stack of elements are [4, 5, -2, -3, 11, 10, 5, 6, 20], then the output should\n",
    "be true because each of the pairs (4,5), (-2,-3), (11,10) and (5,6) consists of\n",
    "consecutive numbers."
   ]
  },
  {
   "cell_type": "code",
   "execution_count": 37,
   "id": "f1ff17f0",
   "metadata": {},
   "outputs": [
    {
     "name": "stdout",
     "output_type": "stream",
     "text": [
      "Yes\n",
      "Stack content (from top) after function call\n",
      "20 6 5 10 11 -3 -2 5 4 "
     ]
    }
   ],
   "source": [
    "def pairWiseConsecutive(s):\n",
    "     \n",
    "    aux = []\n",
    "    while (len(s) != 0):\n",
    "        aux.append(s[-1])\n",
    "        s.pop()\n",
    " \n",
    "    result = True\n",
    "    while (len(aux) > 1):\n",
    " \n",
    "\n",
    "        x = aux[-1]\n",
    "        aux.pop()\n",
    "        y = aux[-1]\n",
    "        aux.pop()\n",
    "        if (abs(x - y) != 1):\n",
    "            result = False\n",
    "        s.append(x)\n",
    "        s.append(y)\n",
    " \n",
    "    if (len(aux) == 1):\n",
    "        s.append(aux[-1])\n",
    " \n",
    "    return result\n",
    "\n",
    "if __name__ == '__main__':\n",
    " \n",
    "    s = []\n",
    "    s.append(4)\n",
    "    s.append(5)\n",
    "    s.append(-2)\n",
    "    s.append(-3)\n",
    "    s.append(11)\n",
    "    s.append(10)\n",
    "    s.append(5)\n",
    "    s.append(6)\n",
    "    s.append(20)\n",
    " \n",
    "    if (pairWiseConsecutive(s)):\n",
    "        print(\"Yes\")\n",
    "    else:\n",
    "        print(\"No\")\n",
    " \n",
    "    print(\"Stack content (from top)\",\n",
    "               \"after function call\")\n",
    "    while (len(s) != 0):\n",
    "        print(s[-1], end = \" \")\n",
    "        s.pop()"
   ]
  },
  {
   "cell_type": "markdown",
   "id": "647e464f",
   "metadata": {},
   "source": [
    "Given array[] with sliding window of size w which is moving from the very left of the\n",
    "array to very right. Assume that we can only see the w numbers in the window. Each\n",
    "time the sliding window moves right forwards by on position. For example: The array\n",
    "is [1 3 -1 -3 5 3 6 7], and w is 3.\n",
    "\n",
    "Window position Max\n",
    "[1 3 -1] -3 5 3 6 7 3\n",
    "1 [3 -1 -3] 5 3 6 7 3\n",
    "1 3 [-1 -3 5] 3 6 7 5\n",
    "1 3 -1 -3 [5 3 6] 7 5\n",
    "1 3 -1 -3 5 [3 6 7] 6\n",
    "1 3 -1 -3 5 3 6 7 7"
   ]
  },
  {
   "cell_type": "code",
   "execution_count": 41,
   "id": "b0cb0f6c",
   "metadata": {},
   "outputs": [
    {
     "name": "stdout",
     "output_type": "stream",
     "text": [
      "3 3 5 5 6 7 "
     ]
    }
   ],
   "source": [
    "def printMax(arr, N, K):\n",
    "    max = 0\n",
    "  \n",
    "    for i in range(N - K + 1):\n",
    "        max = arr[i]\n",
    "        for j in range(1, K):\n",
    "            if arr[i + j] > max:\n",
    "                max = arr[i + j]\n",
    "        print(str(max) + \" \", end=\"\")\n",
    "\n",
    "if __name__ == \"__main__\":\n",
    "    arr = [1,3,-1,-3,5,3,6,7]\n",
    "    N = len(arr)\n",
    "    K = 3\n",
    "      \n",
    "    \n",
    "    printMax(arr, N, K)"
   ]
  },
  {
   "cell_type": "markdown",
   "id": "ada9054b",
   "metadata": {},
   "source": [
    "Q.18 A queue is set up in a circular array A[0,...,n-1] with the front and rear defined as\n",
    "usual. Assume that n-1 locations in the array are available for storing the elements\n",
    "(with the other element being used to detect full/empty condition.) Give a formula for\n",
    "the number of elements in the queue in terms of rear, front and n."
   ]
  },
  {
   "cell_type": "code",
   "execution_count": null,
   "id": "987eeebd",
   "metadata": {},
   "outputs": [],
   "source": [
    "# Solution\n",
    "(rear + n - front) % n + 1"
   ]
  },
  {
   "cell_type": "markdown",
   "id": "5753b94e",
   "metadata": {},
   "source": [
    "Q.19 Given an integer k and a queue of integers, how do you reverse the order of first k\n",
    "elements of the queue, leaving the other elements in the same relative order? For\n",
    "example, if k=4 and queue have the elements [10, 20, 30, 40, 50, 60, 70, 80, 90]; the\n",
    "output should be [40, 30, 20, 10, 50, 60, 70, 80, 90]."
   ]
  },
  {
   "cell_type": "code",
   "execution_count": 42,
   "id": "0b8adced",
   "metadata": {},
   "outputs": [
    {
     "name": "stdout",
     "output_type": "stream",
     "text": [
      "40 30 20 10 50 60 70 80 90 100 "
     ]
    }
   ],
   "source": [
    "from collections import deque\n",
    " \n",
    "def reverse_first_k(q, k):\n",
    "    solve(q, k)\n",
    "    s = len(q) - k\n",
    "    for _ in range(s):\n",
    "        x = q.popleft()\n",
    "        q.append(x)\n",
    "    return q\n",
    " \n",
    "def solve(q, k):\n",
    "    if k == 0:\n",
    "        return\n",
    "    e = q.popleft()\n",
    "    solve(q, k - 1)\n",
    "    q.append(e)\n",
    " \n",
    "\n",
    "queue = deque([10, 20, 30, 40, 50, 60, 70, 80, 90, 100])\n",
    "k = 4\n",
    "queue = reverse_first_k(queue, k)\n",
    " \n",
    "while queue:\n",
    "    print(queue.popleft(), end=' ')"
   ]
  },
  {
   "cell_type": "code",
   "execution_count": null,
   "id": "2061236e",
   "metadata": {},
   "outputs": [],
   "source": []
  },
  {
   "cell_type": "code",
   "execution_count": null,
   "id": "56948f40",
   "metadata": {},
   "outputs": [],
   "source": []
  }
 ],
 "metadata": {
  "kernelspec": {
   "display_name": "Python 3 (ipykernel)",
   "language": "python",
   "name": "python3"
  },
  "language_info": {
   "codemirror_mode": {
    "name": "ipython",
    "version": 3
   },
   "file_extension": ".py",
   "mimetype": "text/x-python",
   "name": "python",
   "nbconvert_exporter": "python",
   "pygments_lexer": "ipython3",
   "version": "3.9.12"
  }
 },
 "nbformat": 4,
 "nbformat_minor": 5
}
